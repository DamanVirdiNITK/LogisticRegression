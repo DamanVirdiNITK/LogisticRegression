{
 "cells": [
  {
   "cell_type": "markdown",
   "metadata": {
    "colab_type": "text",
    "id": "0MRC0e0KhQ0S"
   },
   "source": [
    "# Logistic Regression"
   ]
  },
  {
   "cell_type": "markdown",
   "metadata": {
    "colab_type": "text",
    "id": "LWd1UlMnhT2s"
   },
   "source": [
    "## Importing the libraries"
   ]
  },
  {
   "cell_type": "code",
   "execution_count": 1,
   "metadata": {
    "colab": {},
    "colab_type": "code",
    "id": "YvGPUQaHhXfL"
   },
   "outputs": [],
   "source": [
    "import numpy as np\n",
    "import pandas as pd"
   ]
  },
  {
   "cell_type": "markdown",
   "metadata": {},
   "source": [
    "CREATING DATASET\n"
   ]
  },
  {
   "cell_type": "code",
   "execution_count": 3,
   "metadata": {},
   "outputs": [
    {
     "data": {
      "text/plain": [
       "array([7256, 3963, 2171, 5669, 3815, 1684, 4162, 7059, 3777, 1640,  894,\n",
       "       3357, 5483, 5980, 3372, 4166, 5233, 3060, 7644, 6835, 2860,  729,\n",
       "       2895, 2507, 3994, 3040, 5040, 7263, 2148, 2861, 1749, 2263, 4703,\n",
       "       3070, 6615, 1824, 5250, 7705, 5673, 1565, 6344, 2904, 1036, 2013,\n",
       "       4334, 6086, 4988, 1981, 1325, 7897, 4894, 5786, 2440, 1070, 5624,\n",
       "       7243, 3413, 3335, 4912, 5739, 7430, 6052, 7971, 6022, 7497, 1981,\n",
       "       6719, 2055, 2252, 5718, 2709,  884, 2159, 4046, 1553, 5755, 7610,\n",
       "       2045, 7479, 6500, 4102, 3054, 6482, 2907, 6658, 7881, 3999, 2524,\n",
       "       7915, 7403, 7849, 6356,  697, 4519, 6232, 4002, 6068, 5967, 6251,\n",
       "       3586])"
      ]
     },
     "execution_count": 3,
     "metadata": {},
     "output_type": "execute_result"
    }
   ],
   "source": [
    "age = np.random.randint(1 ,100 , 100)\n",
    "sal = np.random.randint(500, 8000,100)"
   ]
  },
  {
   "cell_type": "code",
   "execution_count": 4,
   "metadata": {},
   "outputs": [
    {
     "data": {
      "text/html": [
       "<div>\n",
       "<style scoped>\n",
       "    .dataframe tbody tr th:only-of-type {\n",
       "        vertical-align: middle;\n",
       "    }\n",
       "\n",
       "    .dataframe tbody tr th {\n",
       "        vertical-align: top;\n",
       "    }\n",
       "\n",
       "    .dataframe thead th {\n",
       "        text-align: right;\n",
       "    }\n",
       "</style>\n",
       "<table border=\"1\" class=\"dataframe\">\n",
       "  <thead>\n",
       "    <tr style=\"text-align: right;\">\n",
       "      <th></th>\n",
       "      <th>AGE</th>\n",
       "      <th>SALARY</th>\n",
       "    </tr>\n",
       "  </thead>\n",
       "  <tbody>\n",
       "    <tr>\n",
       "      <th>0</th>\n",
       "      <td>31</td>\n",
       "      <td>7256</td>\n",
       "    </tr>\n",
       "    <tr>\n",
       "      <th>1</th>\n",
       "      <td>1</td>\n",
       "      <td>3963</td>\n",
       "    </tr>\n",
       "    <tr>\n",
       "      <th>2</th>\n",
       "      <td>16</td>\n",
       "      <td>2171</td>\n",
       "    </tr>\n",
       "    <tr>\n",
       "      <th>3</th>\n",
       "      <td>65</td>\n",
       "      <td>5669</td>\n",
       "    </tr>\n",
       "    <tr>\n",
       "      <th>4</th>\n",
       "      <td>47</td>\n",
       "      <td>3815</td>\n",
       "    </tr>\n",
       "    <tr>\n",
       "      <th>...</th>\n",
       "      <td>...</td>\n",
       "      <td>...</td>\n",
       "    </tr>\n",
       "    <tr>\n",
       "      <th>95</th>\n",
       "      <td>94</td>\n",
       "      <td>4002</td>\n",
       "    </tr>\n",
       "    <tr>\n",
       "      <th>96</th>\n",
       "      <td>5</td>\n",
       "      <td>6068</td>\n",
       "    </tr>\n",
       "    <tr>\n",
       "      <th>97</th>\n",
       "      <td>98</td>\n",
       "      <td>5967</td>\n",
       "    </tr>\n",
       "    <tr>\n",
       "      <th>98</th>\n",
       "      <td>49</td>\n",
       "      <td>6251</td>\n",
       "    </tr>\n",
       "    <tr>\n",
       "      <th>99</th>\n",
       "      <td>57</td>\n",
       "      <td>3586</td>\n",
       "    </tr>\n",
       "  </tbody>\n",
       "</table>\n",
       "<p>100 rows × 2 columns</p>\n",
       "</div>"
      ],
      "text/plain": [
       "    AGE  SALARY\n",
       "0    31    7256\n",
       "1     1    3963\n",
       "2    16    2171\n",
       "3    65    5669\n",
       "4    47    3815\n",
       "..  ...     ...\n",
       "95   94    4002\n",
       "96    5    6068\n",
       "97   98    5967\n",
       "98   49    6251\n",
       "99   57    3586\n",
       "\n",
       "[100 rows x 2 columns]"
      ]
     },
     "execution_count": 4,
     "metadata": {},
     "output_type": "execute_result"
    }
   ],
   "source": [
    "df = pd.DataFrame({\"AGE\" :age , \"SALARY\" :sal })\n",
    "df"
   ]
  },
  {
   "cell_type": "code",
   "execution_count": 6,
   "metadata": {},
   "outputs": [
    {
     "data": {
      "text/html": [
       "<div>\n",
       "<style scoped>\n",
       "    .dataframe tbody tr th:only-of-type {\n",
       "        vertical-align: middle;\n",
       "    }\n",
       "\n",
       "    .dataframe tbody tr th {\n",
       "        vertical-align: top;\n",
       "    }\n",
       "\n",
       "    .dataframe thead th {\n",
       "        text-align: right;\n",
       "    }\n",
       "</style>\n",
       "<table border=\"1\" class=\"dataframe\">\n",
       "  <thead>\n",
       "    <tr style=\"text-align: right;\">\n",
       "      <th></th>\n",
       "      <th>AGE</th>\n",
       "      <th>SALARY</th>\n",
       "      <th>PURCHASED</th>\n",
       "    </tr>\n",
       "  </thead>\n",
       "  <tbody>\n",
       "    <tr>\n",
       "      <th>0</th>\n",
       "      <td>31</td>\n",
       "      <td>7256</td>\n",
       "      <td>0</td>\n",
       "    </tr>\n",
       "    <tr>\n",
       "      <th>1</th>\n",
       "      <td>1</td>\n",
       "      <td>3963</td>\n",
       "      <td>0</td>\n",
       "    </tr>\n",
       "    <tr>\n",
       "      <th>2</th>\n",
       "      <td>16</td>\n",
       "      <td>2171</td>\n",
       "      <td>0</td>\n",
       "    </tr>\n",
       "    <tr>\n",
       "      <th>3</th>\n",
       "      <td>65</td>\n",
       "      <td>5669</td>\n",
       "      <td>0</td>\n",
       "    </tr>\n",
       "    <tr>\n",
       "      <th>4</th>\n",
       "      <td>47</td>\n",
       "      <td>3815</td>\n",
       "      <td>0</td>\n",
       "    </tr>\n",
       "    <tr>\n",
       "      <th>...</th>\n",
       "      <td>...</td>\n",
       "      <td>...</td>\n",
       "      <td>...</td>\n",
       "    </tr>\n",
       "    <tr>\n",
       "      <th>95</th>\n",
       "      <td>94</td>\n",
       "      <td>4002</td>\n",
       "      <td>0</td>\n",
       "    </tr>\n",
       "    <tr>\n",
       "      <th>96</th>\n",
       "      <td>5</td>\n",
       "      <td>6068</td>\n",
       "      <td>0</td>\n",
       "    </tr>\n",
       "    <tr>\n",
       "      <th>97</th>\n",
       "      <td>98</td>\n",
       "      <td>5967</td>\n",
       "      <td>0</td>\n",
       "    </tr>\n",
       "    <tr>\n",
       "      <th>98</th>\n",
       "      <td>49</td>\n",
       "      <td>6251</td>\n",
       "      <td>0</td>\n",
       "    </tr>\n",
       "    <tr>\n",
       "      <th>99</th>\n",
       "      <td>57</td>\n",
       "      <td>3586</td>\n",
       "      <td>0</td>\n",
       "    </tr>\n",
       "  </tbody>\n",
       "</table>\n",
       "<p>100 rows × 3 columns</p>\n",
       "</div>"
      ],
      "text/plain": [
       "    AGE  SALARY  PURCHASED\n",
       "0    31    7256          0\n",
       "1     1    3963          0\n",
       "2    16    2171          0\n",
       "3    65    5669          0\n",
       "4    47    3815          0\n",
       "..  ...     ...        ...\n",
       "95   94    4002          0\n",
       "96    5    6068          0\n",
       "97   98    5967          0\n",
       "98   49    6251          0\n",
       "99   57    3586          0\n",
       "\n",
       "[100 rows x 3 columns]"
      ]
     },
     "execution_count": 6,
     "metadata": {},
     "output_type": "execute_result"
    }
   ],
   "source": [
    "df['PURCHASED'] = 0\n",
    "df"
   ]
  },
  {
   "cell_type": "code",
   "execution_count": 7,
   "metadata": {},
   "outputs": [
    {
     "name": "stdout",
     "output_type": "stream",
     "text": [
      "    AGE  SALARY  PURCHASED\n",
      "0    31    7256          1\n",
      "1     1    3963          0\n",
      "2    16    2171          0\n",
      "3    65    5669          0\n",
      "4    47    3815          0\n",
      "..  ...     ...        ...\n",
      "95   94    4002          0\n",
      "96    5    6068          1\n",
      "97   98    5967          1\n",
      "98   49    6251          1\n",
      "99   57    3586          0\n",
      "\n",
      "[100 rows x 3 columns]\n"
     ]
    }
   ],
   "source": [
    "df['PURCHASED'] = df.apply(lambda x: 1 if (6*x['AGE']+3*x[\"SALARY\"]>18000)  else 0, axis=1)\n",
    "print(df)\n"
   ]
  },
  {
   "cell_type": "code",
   "execution_count": 8,
   "metadata": {},
   "outputs": [
    {
     "name": "stdout",
     "output_type": "stream",
     "text": [
      "    AGE  SALARY  PURCHASED\n",
      "0    31    7256          1\n",
      "1     1    3963          0\n",
      "2    16    2171          0\n",
      "3    65    5669          0\n",
      "4    47    3815          0\n",
      "..  ...     ...        ...\n",
      "95   94    4002          0\n",
      "96    5    6068          1\n",
      "97   98    5967          1\n",
      "98   49    6251          1\n",
      "99   57    3586          0\n",
      "\n",
      "[100 rows x 3 columns]\n"
     ]
    },
    {
     "data": {
      "text/html": [
       "<div>\n",
       "<style scoped>\n",
       "    .dataframe tbody tr th:only-of-type {\n",
       "        vertical-align: middle;\n",
       "    }\n",
       "\n",
       "    .dataframe tbody tr th {\n",
       "        vertical-align: top;\n",
       "    }\n",
       "\n",
       "    .dataframe thead th {\n",
       "        text-align: right;\n",
       "    }\n",
       "</style>\n",
       "<table border=\"1\" class=\"dataframe\">\n",
       "  <thead>\n",
       "    <tr style=\"text-align: right;\">\n",
       "      <th></th>\n",
       "      <th>AGE</th>\n",
       "      <th>SALARY</th>\n",
       "      <th>PURCHASED</th>\n",
       "    </tr>\n",
       "  </thead>\n",
       "  <tbody>\n",
       "    <tr>\n",
       "      <th>0</th>\n",
       "      <td>46</td>\n",
       "      <td>7766</td>\n",
       "      <td>1</td>\n",
       "    </tr>\n",
       "    <tr>\n",
       "      <th>1</th>\n",
       "      <td>6</td>\n",
       "      <td>4560</td>\n",
       "      <td>0</td>\n",
       "    </tr>\n",
       "    <tr>\n",
       "      <th>2</th>\n",
       "      <td>28</td>\n",
       "      <td>2901</td>\n",
       "      <td>0</td>\n",
       "    </tr>\n",
       "    <tr>\n",
       "      <th>3</th>\n",
       "      <td>71</td>\n",
       "      <td>6196</td>\n",
       "      <td>0</td>\n",
       "    </tr>\n",
       "    <tr>\n",
       "      <th>4</th>\n",
       "      <td>69</td>\n",
       "      <td>4588</td>\n",
       "      <td>0</td>\n",
       "    </tr>\n",
       "    <tr>\n",
       "      <th>...</th>\n",
       "      <td>...</td>\n",
       "      <td>...</td>\n",
       "      <td>...</td>\n",
       "    </tr>\n",
       "    <tr>\n",
       "      <th>95</th>\n",
       "      <td>117</td>\n",
       "      <td>4995</td>\n",
       "      <td>0</td>\n",
       "    </tr>\n",
       "    <tr>\n",
       "      <th>96</th>\n",
       "      <td>28</td>\n",
       "      <td>6663</td>\n",
       "      <td>1</td>\n",
       "    </tr>\n",
       "    <tr>\n",
       "      <th>97</th>\n",
       "      <td>114</td>\n",
       "      <td>6833</td>\n",
       "      <td>1</td>\n",
       "    </tr>\n",
       "    <tr>\n",
       "      <th>98</th>\n",
       "      <td>52</td>\n",
       "      <td>6983</td>\n",
       "      <td>1</td>\n",
       "    </tr>\n",
       "    <tr>\n",
       "      <th>99</th>\n",
       "      <td>85</td>\n",
       "      <td>4439</td>\n",
       "      <td>0</td>\n",
       "    </tr>\n",
       "  </tbody>\n",
       "</table>\n",
       "<p>100 rows × 3 columns</p>\n",
       "</div>"
      ],
      "text/plain": [
       "    AGE  SALARY  PURCHASED\n",
       "0    46    7766          1\n",
       "1     6    4560          0\n",
       "2    28    2901          0\n",
       "3    71    6196          0\n",
       "4    69    4588          0\n",
       "..  ...     ...        ...\n",
       "95  117    4995          0\n",
       "96   28    6663          1\n",
       "97  114    6833          1\n",
       "98   52    6983          1\n",
       "99   85    4439          0\n",
       "\n",
       "[100 rows x 3 columns]"
      ]
     },
     "execution_count": 8,
     "metadata": {},
     "output_type": "execute_result"
    }
   ],
   "source": [
    "#Introduce Error\n",
    "print(df)\n",
    "df['AGE'] =  df['AGE'] +np.random.randint(0 , 33, 100)\n",
    "df['SALARY'] = df['SALARY'] +np.random.randint(500, 1000, 100)\n",
    "\n",
    "df        "
   ]
  },
  {
   "cell_type": "markdown",
   "metadata": {
    "colab_type": "text",
    "id": "K1VMqkGvhc3-"
   },
   "source": [
    "\n",
    "## Importing the dataset"
   ]
  },
  {
   "cell_type": "code",
   "execution_count": 9,
   "metadata": {
    "scrolled": true
   },
   "outputs": [],
   "source": [
    "df.to_csv(\"Record10.csv\" , index = 0)"
   ]
  },
  {
   "cell_type": "code",
   "execution_count": 10,
   "metadata": {
    "colab": {},
    "colab_type": "code",
    "id": "M52QDmyzhh9s"
   },
   "outputs": [
    {
     "data": {
      "text/plain": [
       "array([[  46, 7766],\n",
       "       [   6, 4560],\n",
       "       [  28, 2901],\n",
       "       [  71, 6196],\n",
       "       [  69, 4588],\n",
       "       [  61, 2505],\n",
       "       [  60, 4973],\n",
       "       [  71, 7892],\n",
       "       [   9, 4342],\n",
       "       [  45, 2562],\n",
       "       [  69, 1870],\n",
       "       [  97, 4010],\n",
       "       [  32, 6271],\n",
       "       [  88, 6729],\n",
       "       [ 111, 3885],\n",
       "       [  85, 4841],\n",
       "       [  25, 6160],\n",
       "       [   4, 3672],\n",
       "       [ 106, 8294],\n",
       "       [  80, 7521],\n",
       "       [  94, 3550],\n",
       "       [  41, 1575],\n",
       "       [  61, 3734],\n",
       "       [ 105, 3471],\n",
       "       [  80, 4496],\n",
       "       [  95, 3844],\n",
       "       [ 107, 5909],\n",
       "       [  95, 8219],\n",
       "       [   9, 2744],\n",
       "       [  33, 3400],\n",
       "       [  30, 2292],\n",
       "       [  30, 3091],\n",
       "       [ 103, 5400],\n",
       "       [  75, 3847],\n",
       "       [  80, 7157],\n",
       "       [  48, 2511],\n",
       "       [ 101, 6165],\n",
       "       [  96, 8286],\n",
       "       [ 111, 6417],\n",
       "       [ 104, 2477],\n",
       "       [  33, 7268],\n",
       "       [  52, 3900],\n",
       "       [  86, 1571],\n",
       "       [  63, 2669],\n",
       "       [  75, 4879],\n",
       "       [   9, 7020],\n",
       "       [ 100, 5659],\n",
       "       [  90, 2838],\n",
       "       [  35, 2001],\n",
       "       [  67, 8814],\n",
       "       [  89, 5752],\n",
       "       [  57, 6364],\n",
       "       [  22, 3418],\n",
       "       [  33, 1676],\n",
       "       [  90, 6340],\n",
       "       [  27, 7783],\n",
       "       [  23, 4233],\n",
       "       [  54, 4220],\n",
       "       [  45, 5830],\n",
       "       [  17, 6342],\n",
       "       [  51, 8028],\n",
       "       [ 117, 6936],\n",
       "       [  97, 8767],\n",
       "       [  50, 6526],\n",
       "       [  18, 8191],\n",
       "       [  96, 2506],\n",
       "       [  38, 7696],\n",
       "       [  68, 2891],\n",
       "       [  36, 3191],\n",
       "       [ 101, 6369],\n",
       "       [  88, 3537],\n",
       "       [  84, 1859],\n",
       "       [  56, 3097],\n",
       "       [  80, 4586],\n",
       "       [  70, 2307],\n",
       "       [  89, 6275],\n",
       "       [  43, 8135],\n",
       "       [  85, 2680],\n",
       "       [  37, 8062],\n",
       "       [ 111, 7322],\n",
       "       [ 104, 5003],\n",
       "       [  71, 3815],\n",
       "       [  54, 6997],\n",
       "       [  78, 3809],\n",
       "       [  82, 7250],\n",
       "       [  98, 8861],\n",
       "       [  69, 4740],\n",
       "       [  45, 3447],\n",
       "       [  93, 8867],\n",
       "       [  73, 8049],\n",
       "       [  55, 8581],\n",
       "       [  89, 6979],\n",
       "       [ 110, 1396],\n",
       "       [  81, 5068],\n",
       "       [  36, 6982],\n",
       "       [ 117, 4995],\n",
       "       [  28, 6663],\n",
       "       [ 114, 6833],\n",
       "       [  52, 6983],\n",
       "       [  85, 4439]], dtype=int64)"
      ]
     },
     "execution_count": 10,
     "metadata": {},
     "output_type": "execute_result"
    }
   ],
   "source": [
    "dataset = pd.read_csv('Record10.csv')\n",
    "X = dataset.iloc[:, :-1].values\n",
    "y = dataset.iloc[:, -1].values\n",
    "X"
   ]
  },
  {
   "cell_type": "markdown",
   "metadata": {
    "colab_type": "text",
    "id": "YvxIPVyMhmKp"
   },
   "source": [
    "## Splitting the dataset into the Training set and Test set"
   ]
  },
  {
   "cell_type": "code",
   "execution_count": 11,
   "metadata": {
    "colab": {},
    "colab_type": "code",
    "id": "AVzJWAXIhxoC"
   },
   "outputs": [],
   "source": [
    "from sklearn.model_selection import train_test_split\n",
    "X_train, X_test, y_train, y_test = train_test_split(X, y, test_size = 0.25, random_state = 0)"
   ]
  },
  {
   "cell_type": "code",
   "execution_count": 12,
   "metadata": {
    "colab": {
     "base_uri": "https://localhost:8080/",
     "height": 1000
    },
    "colab_type": "code",
    "executionInfo": {
     "elapsed": 2163,
     "status": "ok",
     "timestamp": 1588265315502,
     "user": {
      "displayName": "Hadelin de Ponteves",
      "photoUrl": "https://lh3.googleusercontent.com/a-/AOh14GhEuXdT7eQweUmRPW8_laJuPggSK6hfvpl5a6WBaA=s64",
      "userId": "15047218817161520419"
     },
     "user_tz": -240
    },
    "id": "P3nS3-6r1i2B",
    "outputId": "75d6e0cf-d13b-42cf-a353-888682415d37"
   },
   "outputs": [
    {
     "name": "stdout",
     "output_type": "stream",
     "text": [
      "[[  35 2001]\n",
      " [  60 4973]\n",
      " [  85 4439]\n",
      " [  54 6997]\n",
      " [  43 8135]\n",
      " [  51 8028]\n",
      " [ 104 5003]\n",
      " [  55 8581]\n",
      " [  36 3191]\n",
      " [  57 6364]\n",
      " [  95 8219]\n",
      " [ 106 8294]\n",
      " [  23 4233]\n",
      " [  50 6526]\n",
      " [  70 2307]\n",
      " [   6 4560]\n",
      " [ 117 6936]\n",
      " [  86 1571]\n",
      " [  52 3900]\n",
      " [  69 4588]\n",
      " [  85 4841]\n",
      " [   4 3672]\n",
      " [  33 7268]\n",
      " [ 111 6417]\n",
      " [  61 2505]\n",
      " [  89 6979]\n",
      " [  17 6342]\n",
      " [  46 7766]\n",
      " [  80 7157]\n",
      " [   9 2744]\n",
      " [  89 5752]\n",
      " [  97 4010]\n",
      " [  48 2511]\n",
      " [ 105 3471]\n",
      " [  22 3418]\n",
      " [  69 1870]\n",
      " [  30 3091]\n",
      " [  38 7696]\n",
      " [  54 4220]\n",
      " [ 111 7322]\n",
      " [  98 8861]\n",
      " [ 103 5400]\n",
      " [  82 7250]\n",
      " [ 111 3885]\n",
      " [  73 8049]\n",
      " [  80 7521]\n",
      " [  33 3400]\n",
      " [  67 8814]\n",
      " [ 114 6833]\n",
      " [  52 6983]\n",
      " [ 101 6369]\n",
      " [  94 3550]\n",
      " [  36 6982]\n",
      " [  56 3097]\n",
      " [  85 2680]\n",
      " [  95 3844]\n",
      " [  96 8286]\n",
      " [  71 3815]\n",
      " [ 100 5659]\n",
      " [ 104 2477]\n",
      " [  96 2506]\n",
      " [  45 5830]\n",
      " [  32 6271]\n",
      " [  93 8867]\n",
      " [  88 3537]\n",
      " [  45 3447]\n",
      " [ 101 6165]\n",
      " [  41 1575]\n",
      " [  78 3809]\n",
      " [  45 2562]\n",
      " [  28 6663]\n",
      " [  68 2891]\n",
      " [  18 8191]\n",
      " [  90 2838]\n",
      " [  75 4879]]\n"
     ]
    }
   ],
   "source": [
    "print(X_train)"
   ]
  },
  {
   "cell_type": "code",
   "execution_count": 13,
   "metadata": {
    "colab": {
     "base_uri": "https://localhost:8080/",
     "height": 171
    },
    "colab_type": "code",
    "executionInfo": {
     "elapsed": 2158,
     "status": "ok",
     "timestamp": 1588265315502,
     "user": {
      "displayName": "Hadelin de Ponteves",
      "photoUrl": "https://lh3.googleusercontent.com/a-/AOh14GhEuXdT7eQweUmRPW8_laJuPggSK6hfvpl5a6WBaA=s64",
      "userId": "15047218817161520419"
     },
     "user_tz": -240
    },
    "id": "8dpDLojm1mVG",
    "outputId": "7ae11087-76ab-4027-c94e-9eb18f7573bf"
   },
   "outputs": [
    {
     "name": "stdout",
     "output_type": "stream",
     "text": [
      "[0 0 0 1 1 1 0 1 0 0 1 1 0 1 0 0 1 0 0 0 0 0 1 0 0 1 0 1 1 0 0 0 0 0 0 0 0\n",
      " 1 0 1 1 0 1 0 1 1 0 1 1 1 0 0 1 0 0 0 1 0 0 0 0 0 0 1 0 0 0 0 0 0 1 0 1 0\n",
      " 0]\n"
     ]
    }
   ],
   "source": [
    "print(y_train)"
   ]
  },
  {
   "cell_type": "code",
   "execution_count": 14,
   "metadata": {
    "colab": {
     "base_uri": "https://localhost:8080/",
     "height": 1000
    },
    "colab_type": "code",
    "executionInfo": {
     "elapsed": 2154,
     "status": "ok",
     "timestamp": 1588265315503,
     "user": {
      "displayName": "Hadelin de Ponteves",
      "photoUrl": "https://lh3.googleusercontent.com/a-/AOh14GhEuXdT7eQweUmRPW8_laJuPggSK6hfvpl5a6WBaA=s64",
      "userId": "15047218817161520419"
     },
     "user_tz": -240
    },
    "id": "qbb7i0DH1qui",
    "outputId": "94e717d7-fa9a-4e22-9c68-d43421cbfb92",
    "scrolled": true
   },
   "outputs": [
    {
     "name": "stdout",
     "output_type": "stream",
     "text": [
      "[[ 107 5909]\n",
      " [  69 4740]\n",
      " [  28 2901]\n",
      " [  27 7783]\n",
      " [  89 6275]\n",
      " [  81 5068]\n",
      " [  25 6160]\n",
      " [  80 4586]\n",
      " [  90 6340]\n",
      " [ 117 4995]\n",
      " [  33 1676]\n",
      " [ 110 1396]\n",
      " [  37 8062]\n",
      " [  88 6729]\n",
      " [  71 7892]\n",
      " [  30 2292]\n",
      " [  61 3734]\n",
      " [  80 4496]\n",
      " [  75 3847]\n",
      " [   9 4342]\n",
      " [  63 2669]\n",
      " [  97 8767]\n",
      " [  71 6196]\n",
      " [  84 1859]\n",
      " [   9 7020]]\n"
     ]
    }
   ],
   "source": [
    "print(X_test)"
   ]
  },
  {
   "cell_type": "code",
   "execution_count": 15,
   "metadata": {
    "colab": {
     "base_uri": "https://localhost:8080/",
     "height": 68
    },
    "colab_type": "code",
    "executionInfo": {
     "elapsed": 2149,
     "status": "ok",
     "timestamp": 1588265315503,
     "user": {
      "displayName": "Hadelin de Ponteves",
      "photoUrl": "https://lh3.googleusercontent.com/a-/AOh14GhEuXdT7eQweUmRPW8_laJuPggSK6hfvpl5a6WBaA=s64",
      "userId": "15047218817161520419"
     },
     "user_tz": -240
    },
    "id": "kj1hnFAR1s5w",
    "outputId": "ec9924c4-6d8a-4f20-dbf9-272fbaa24f92"
   },
   "outputs": [
    {
     "name": "stdout",
     "output_type": "stream",
     "text": [
      "[0 0 0 1 0 0 0 0 0 0 0 0 1 1 1 0 0 0 0 0 0 1 0 0 1]\n"
     ]
    }
   ],
   "source": [
    "print(y_test)"
   ]
  },
  {
   "cell_type": "markdown",
   "metadata": {
    "colab_type": "text",
    "id": "kW3c7UYih0hT"
   },
   "source": [
    "## Feature Scaling"
   ]
  },
  {
   "cell_type": "code",
   "execution_count": 16,
   "metadata": {
    "colab": {},
    "colab_type": "code",
    "id": "9fQlDPKCh8sc"
   },
   "outputs": [],
   "source": [
    "from sklearn.preprocessing import StandardScaler\n",
    "sc = StandardScaler()\n",
    "X_train = sc.fit_transform(X_train)\n",
    "X_test = sc.transform(X_test)"
   ]
  },
  {
   "cell_type": "code",
   "execution_count": 17,
   "metadata": {
    "colab": {
     "base_uri": "https://localhost:8080/",
     "height": 1000
    },
    "colab_type": "code",
    "executionInfo": {
     "elapsed": 2139,
     "status": "ok",
     "timestamp": 1588265315503,
     "user": {
      "displayName": "Hadelin de Ponteves",
      "photoUrl": "https://lh3.googleusercontent.com/a-/AOh14GhEuXdT7eQweUmRPW8_laJuPggSK6hfvpl5a6WBaA=s64",
      "userId": "15047218817161520419"
     },
     "user_tz": -240
    },
    "id": "syrnD1Op2BSR",
    "outputId": "711172c9-25a5-4c03-e835-6ab94766bdc0",
    "scrolled": false
   },
   "outputs": [
    {
     "name": "stdout",
     "output_type": "stream",
     "text": [
      "[[-1.08053076 -1.50901737]\n",
      " [-0.24368847 -0.1168508 ]\n",
      " [ 0.59315381 -0.3669911 ]\n",
      " [-0.44453062  0.83124648]\n",
      " [-0.81274123  1.36431699]\n",
      " [-0.5449517   1.31419525]\n",
      " [ 1.22915395 -0.10279798]\n",
      " [-0.41105693  1.57323566]\n",
      " [-1.04705707 -0.95158863]\n",
      " [-0.34410955  0.53473187]\n",
      " [ 0.92789073  1.4036649 ]\n",
      " [ 1.29610133  1.43879697]\n",
      " [-1.48221506 -0.46348716]\n",
      " [-0.57842539  0.61061712]\n",
      " [ 0.09104844 -1.36567855]\n",
      " [-2.05126781 -0.31031137]\n",
      " [ 1.66431194  0.8026724 ]\n",
      " [ 0.6266275  -1.7104412 ]\n",
      " [-0.51147801 -0.61947353]\n",
      " [ 0.05757475 -0.2971954 ]\n",
      " [ 0.59315381 -0.17868324]\n",
      " [-2.11821519 -0.726275  ]\n",
      " [-1.14747814  0.95819034]\n",
      " [ 1.46346979  0.55955852]\n",
      " [-0.21021478 -1.27292991]\n",
      " [ 0.72704858  0.82281479]\n",
      " [-1.68305721  0.52442646]\n",
      " [-0.71232015  1.19146724]\n",
      " [ 0.42578536  0.90619488]\n",
      " [-1.95084674 -1.16097573]\n",
      " [ 0.72704858  0.24805423]\n",
      " [ 0.99483811 -0.5679465 ]\n",
      " [-0.64537277 -1.27011934]\n",
      " [ 1.26262764 -0.82042893]\n",
      " [-1.51568875 -0.84525559]\n",
      " [ 0.05757475 -1.57038138]\n",
      " [-1.24789922 -0.99843138]\n",
      " [-0.98010969  1.15867731]\n",
      " [-0.44453062 -0.46957672]\n",
      " [ 1.46346979  0.98348542]\n",
      " [ 1.0283118   1.70439536]\n",
      " [ 1.19568026  0.08316774]\n",
      " [ 0.49273274  0.94975864]\n",
      " [ 1.46346979 -0.62649994]\n",
      " [ 0.19146952  1.32403222]\n",
      " [ 0.42578536  1.0767025 ]\n",
      " [-1.14747814 -0.85368728]\n",
      " [-0.00937263  1.68237927]\n",
      " [ 1.56389086  0.75442437]\n",
      " [-0.51147801  0.8246885 ]\n",
      " [ 1.12873288  0.537074  ]\n",
      " [ 0.89441704 -0.78342316]\n",
      " [-1.04705707  0.82422007]\n",
      " [-0.37758324 -0.99562082]\n",
      " [ 0.59315381 -1.19095509]\n",
      " [ 0.92789073 -0.64570547]\n",
      " [ 0.96136442  1.43504955]\n",
      " [ 0.12452213 -0.65928986]\n",
      " [ 1.09525918  0.20449047]\n",
      " [ 1.22915395 -1.28604588]\n",
      " [ 0.96136442 -1.27246148]\n",
      " [-0.74579385  0.28459157]\n",
      " [-1.18095183  0.49116811]\n",
      " [ 0.86094334  1.70720593]\n",
      " [ 0.69357489 -0.78951271]\n",
      " [-0.74579385 -0.83167119]\n",
      " [ 1.12873288  0.44151479]\n",
      " [-0.87968861 -1.70856749]\n",
      " [ 0.35883797 -0.66210043]\n",
      " [-0.74579385 -1.24622954]\n",
      " [-1.3148466   0.67479169]\n",
      " [ 0.02410106 -1.09211689]\n",
      " [-1.64958351  1.39054893]\n",
      " [ 0.76052227 -1.11694354]\n",
      " [ 0.2584169  -0.16088299]]\n"
     ]
    }
   ],
   "source": [
    "print(X_train)"
   ]
  },
  {
   "cell_type": "code",
   "execution_count": 18,
   "metadata": {
    "colab": {
     "base_uri": "https://localhost:8080/",
     "height": 1000
    },
    "colab_type": "code",
    "executionInfo": {
     "elapsed": 2133,
     "status": "ok",
     "timestamp": 1588265315504,
     "user": {
      "displayName": "Hadelin de Ponteves",
      "photoUrl": "https://lh3.googleusercontent.com/a-/AOh14GhEuXdT7eQweUmRPW8_laJuPggSK6hfvpl5a6WBaA=s64",
      "userId": "15047218817161520419"
     },
     "user_tz": -240
    },
    "id": "JUd6iBRp2C3L",
    "outputId": "3ed7b1f1-8fb7-48bc-8df8-39b6f65081ae"
   },
   "outputs": [
    {
     "name": "stdout",
     "output_type": "stream",
     "text": [
      "[[ 1.32957502  0.32159735]\n",
      " [ 0.05757475 -0.22599441]\n",
      " [-1.3148466  -1.08743261]\n",
      " [-1.34832029  1.19943051]\n",
      " [ 0.72704858  0.49304182]\n",
      " [ 0.45925905 -0.07235019]\n",
      " [-1.41526767  0.43917265]\n",
      " [ 0.42578536 -0.29813225]\n",
      " [ 0.76052227  0.52348961]\n",
      " [ 1.66431194 -0.1065454 ]\n",
      " [-1.14747814 -1.66125631]\n",
      " [ 1.4299961  -1.79241602]\n",
      " [-1.01358338  1.33012178]\n",
      " [ 0.69357489  0.70570791]\n",
      " [ 0.12452213  1.25048911]\n",
      " [-1.24789922 -1.37270497]\n",
      " [-0.21021478 -0.69723249]\n",
      " [ 0.42578536 -0.34029073]\n",
      " [ 0.2584169  -0.64430018]\n",
      " [-1.95084674 -0.41242856]\n",
      " [-0.1432674  -1.19610779]\n",
      " [ 0.99483811  1.66036318]\n",
      " [ 0.12452213  0.45603604]\n",
      " [ 0.55968012 -1.57553408]\n",
      " [-1.95084674  0.84202031]]\n"
     ]
    }
   ],
   "source": [
    "print(X_test)"
   ]
  },
  {
   "cell_type": "markdown",
   "metadata": {
    "colab_type": "text",
    "id": "bb6jCOCQiAmP"
   },
   "source": [
    "## Training the Logistic Regression model on the Training set"
   ]
  },
  {
   "cell_type": "code",
   "execution_count": 19,
   "metadata": {
    "colab": {
     "base_uri": "https://localhost:8080/",
     "height": 103
    },
    "colab_type": "code",
    "executionInfo": {
     "elapsed": 2125,
     "status": "ok",
     "timestamp": 1588265315505,
     "user": {
      "displayName": "Hadelin de Ponteves",
      "photoUrl": "https://lh3.googleusercontent.com/a-/AOh14GhEuXdT7eQweUmRPW8_laJuPggSK6hfvpl5a6WBaA=s64",
      "userId": "15047218817161520419"
     },
     "user_tz": -240
    },
    "id": "e0pFVAmciHQs",
    "outputId": "67f64468-abdb-4fe7-cce9-de0037119610"
   },
   "outputs": [
    {
     "data": {
      "text/plain": [
       "LogisticRegression(random_state=0)"
      ]
     },
     "execution_count": 19,
     "metadata": {},
     "output_type": "execute_result"
    }
   ],
   "source": [
    "from sklearn.linear_model import LogisticRegression\n",
    "classifier = LogisticRegression(random_state = 0)\n",
    "classifier.fit(X_train, y_train)\n"
   ]
  },
  {
   "cell_type": "markdown",
   "metadata": {
    "colab_type": "text",
    "id": "yyxW5b395mR2"
   },
   "source": [
    "## Predicting a new result"
   ]
  },
  {
   "cell_type": "code",
   "execution_count": null,
   "metadata": {
    "colab": {
     "base_uri": "https://localhost:8080/",
     "height": 34
    },
    "colab_type": "code",
    "executionInfo": {
     "elapsed": 2118,
     "status": "ok",
     "timestamp": 1588265315505,
     "user": {
      "displayName": "Hadelin de Ponteves",
      "photoUrl": "https://lh3.googleusercontent.com/a-/AOh14GhEuXdT7eQweUmRPW8_laJuPggSK6hfvpl5a6WBaA=s64",
      "userId": "15047218817161520419"
     },
     "user_tz": -240
    },
    "id": "f8YOXsQy58rP",
    "outputId": "2e1b0063-548e-4924-cf3a-93a79d97e35e"
   },
   "outputs": [],
   "source": [
    "print(classifier.predict(sc.transform([[45,6000]])))"
   ]
  },
  {
   "cell_type": "markdown",
   "metadata": {
    "colab_type": "text",
    "id": "vKYVQH-l5NpE"
   },
   "source": [
    "## Predicting the Test set results"
   ]
  },
  {
   "cell_type": "code",
   "execution_count": null,
   "metadata": {},
   "outputs": [],
   "source": [
    "X_test"
   ]
  },
  {
   "cell_type": "code",
   "execution_count": null,
   "metadata": {},
   "outputs": [],
   "source": [
    "y_pred"
   ]
  },
  {
   "cell_type": "code",
   "execution_count": null,
   "metadata": {},
   "outputs": [],
   "source": [
    "y_test"
   ]
  },
  {
   "cell_type": "code",
   "execution_count": 20,
   "metadata": {
    "colab": {
     "base_uri": "https://localhost:8080/",
     "height": 1000
    },
    "colab_type": "code",
    "executionInfo": {
     "elapsed": 2112,
     "status": "ok",
     "timestamp": 1588265315506,
     "user": {
      "displayName": "Hadelin de Ponteves",
      "photoUrl": "https://lh3.googleusercontent.com/a-/AOh14GhEuXdT7eQweUmRPW8_laJuPggSK6hfvpl5a6WBaA=s64",
      "userId": "15047218817161520419"
     },
     "user_tz": -240
    },
    "id": "p6VMTb2O4hwM",
    "outputId": "a4f03a97-2942-45cd-f735-f4063277a96c"
   },
   "outputs": [
    {
     "name": "stdout",
     "output_type": "stream",
     "text": [
      "Predict Actual\n",
      "[[0 0]\n",
      " [0 0]\n",
      " [0 0]\n",
      " [1 1]\n",
      " [0 0]\n",
      " [0 0]\n",
      " [0 0]\n",
      " [0 0]\n",
      " [0 0]\n",
      " [0 0]\n",
      " [0 0]\n",
      " [0 0]\n",
      " [1 1]\n",
      " [1 1]\n",
      " [1 1]\n",
      " [0 0]\n",
      " [0 0]\n",
      " [0 0]\n",
      " [0 0]\n",
      " [0 0]\n",
      " [0 0]\n",
      " [1 1]\n",
      " [0 0]\n",
      " [0 0]\n",
      " [1 1]]\n"
     ]
    }
   ],
   "source": [
    "y_pred = classifier.predict(X_test)\n",
    "#print(y_pred)\n",
    "#print(y_pred.shape)\n",
    "#print(y_pred.reshape(25,1))\n",
    "#print(y_pred.reshape(len(y_pred),1))\n",
    "\n",
    "#print(y_test.reshape(len(y_test),1))\n",
    "\n",
    "print(\"Predict Actual\")\n",
    "print(np.concatenate((y_pred.reshape(len(y_pred),1), y_test.reshape(len(y_test),1)),1))\n"
   ]
  },
  {
   "cell_type": "code",
   "execution_count": null,
   "metadata": {},
   "outputs": [],
   "source": [
    "print(\"Pred Actual\")\n",
    "print(np.concatenate((y_pred.reshape(len(y_pred),1), y_test.reshape(len(y_test),1)),1))\n"
   ]
  },
  {
   "cell_type": "markdown",
   "metadata": {
    "colab_type": "text",
    "id": "h4Hwj34ziWQW"
   },
   "source": [
    "## Making the Confusion Matrix"
   ]
  },
  {
   "cell_type": "code",
   "execution_count": 21,
   "metadata": {
    "colab": {
     "base_uri": "https://localhost:8080/",
     "height": 68
    },
    "colab_type": "code",
    "executionInfo": {
     "elapsed": 2107,
     "status": "ok",
     "timestamp": 1588265315506,
     "user": {
      "displayName": "Hadelin de Ponteves",
      "photoUrl": "https://lh3.googleusercontent.com/a-/AOh14GhEuXdT7eQweUmRPW8_laJuPggSK6hfvpl5a6WBaA=s64",
      "userId": "15047218817161520419"
     },
     "user_tz": -240
    },
    "id": "D6bpZwUiiXic",
    "outputId": "f202fcb3-5882-4d93-e5df-50791185067e",
    "scrolled": true
   },
   "outputs": [
    {
     "name": "stdout",
     "output_type": "stream",
     "text": [
      "[[19  0]\n",
      " [ 0  6]]\n"
     ]
    },
    {
     "data": {
      "text/plain": [
       "1.0"
      ]
     },
     "execution_count": 21,
     "metadata": {},
     "output_type": "execute_result"
    }
   ],
   "source": [
    "from sklearn.metrics import confusion_matrix, accuracy_score\n",
    "cm = confusion_matrix(y_test, y_pred)\n",
    "\n",
    "print(cm)\n",
    "accuracy_score(y_test, y_pred)"
   ]
  },
  {
   "cell_type": "code",
   "execution_count": null,
   "metadata": {},
   "outputs": [],
   "source": [
    "print(np.concatenate((y_pred.reshape(len(y_pred),1), y_test.reshape(len(y_test),1)),1))\n"
   ]
  },
  {
   "cell_type": "code",
   "execution_count": null,
   "metadata": {},
   "outputs": [],
   "source": [
    "len(y_pred)"
   ]
  },
  {
   "cell_type": "code",
   "execution_count": null,
   "metadata": {},
   "outputs": [],
   "source": [
    "y_pred.shape\n",
    "\n",
    "#1 row and 25 elements\n",
    "\n",
    "#but what we want is   # 1 column  and 25 rows in it"
   ]
  },
  {
   "cell_type": "code",
   "execution_count": null,
   "metadata": {},
   "outputs": [],
   "source": [
    "y_pred.reshape(len(y_pred),1)"
   ]
  },
  {
   "cell_type": "code",
   "execution_count": null,
   "metadata": {},
   "outputs": [],
   "source": [
    "from sklearn.metrics import accuracy_score\n",
    "print(\"Accuracy is: \" ,round(accuracy_score(y_test, y_pred),2)*100, \"%\")"
   ]
  },
  {
   "cell_type": "code",
   "execution_count": null,
   "metadata": {},
   "outputs": [],
   "source": []
  },
  {
   "cell_type": "code",
   "execution_count": null,
   "metadata": {},
   "outputs": [],
   "source": []
  },
  {
   "cell_type": "code",
   "execution_count": null,
   "metadata": {},
   "outputs": [],
   "source": []
  },
  {
   "cell_type": "code",
   "execution_count": null,
   "metadata": {},
   "outputs": [],
   "source": []
  },
  {
   "cell_type": "code",
   "execution_count": null,
   "metadata": {},
   "outputs": [],
   "source": []
  },
  {
   "cell_type": "code",
   "execution_count": null,
   "metadata": {},
   "outputs": [],
   "source": []
  },
  {
   "cell_type": "code",
   "execution_count": null,
   "metadata": {},
   "outputs": [],
   "source": []
  },
  {
   "cell_type": "code",
   "execution_count": null,
   "metadata": {},
   "outputs": [],
   "source": [
    "Train any algo\n",
    "\n",
    "1. import the lib\n",
    "2. create the object \n",
    "3. .fit() on training dataset\n",
    "4. .predict() on test dataset"
   ]
  }
 ],
 "metadata": {
  "colab": {
   "authorship_tag": "ABX9TyOsvB/iqEjYj3VN6C/JbvkE",
   "collapsed_sections": [],
   "machine_shape": "hm",
   "name": "logistic_regression.ipynb",
   "provenance": [],
   "toc_visible": true
  },
  "kernelspec": {
   "display_name": "Python 3",
   "language": "python",
   "name": "python3"
  },
  "language_info": {
   "codemirror_mode": {
    "name": "ipython",
    "version": 3
   },
   "file_extension": ".py",
   "mimetype": "text/x-python",
   "name": "python",
   "nbconvert_exporter": "python",
   "pygments_lexer": "ipython3",
   "version": "3.8.5"
  }
 },
 "nbformat": 4,
 "nbformat_minor": 1
}
